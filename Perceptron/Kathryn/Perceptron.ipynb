{
 "cells": [
  {
   "cell_type": "code",
   "execution_count": 1,
   "metadata": {},
   "outputs": [],
   "source": [
    "# import relevant packages\n",
    "import numpy as np\n",
    "import mnist_reader"
   ]
  },
  {
   "cell_type": "code",
   "execution_count": 2,
   "metadata": {},
   "outputs": [],
   "source": [
    "# load data sets\n",
    "X_train, y_train = mnist_reader.load_mnist('.', kind='train')\n",
    "X_test, y_test = mnist_reader.load_mnist('.', kind='t10k')"
   ]
  },
  {
   "cell_type": "code",
   "execution_count": 3,
   "metadata": {},
   "outputs": [
    {
     "name": "stdout",
     "output_type": "stream",
     "text": [
      "[[0 0 0 ... 0 0 0]\n",
      " [0 0 0 ... 0 0 0]\n",
      " [0 0 0 ... 0 0 0]\n",
      " ...\n",
      " [0 0 0 ... 0 0 0]\n",
      " [0 0 0 ... 0 0 0]\n",
      " [0 0 0 ... 0 0 0]] [9 0 0 ... 3 0 5]\n",
      "<class 'numpy.ndarray'> (60000, 784)\n",
      "<class 'numpy.ndarray'> (10000, 784)\n",
      "<class 'numpy.ndarray'> (60000,)\n",
      "<class 'numpy.ndarray'> (10000,)\n"
     ]
    }
   ],
   "source": [
    "# see what data strucutre looks like\n",
    "print(X_train, y_train)\n",
    "print(type(X_train), X_train.shape)\n",
    "print(type(X_test), X_test.shape)\n",
    "print(type(y_train), y_train.shape)\n",
    "print(type(y_test), y_test.shape)"
   ]
  },
  {
   "cell_type": "code",
   "execution_count": 4,
   "metadata": {},
   "outputs": [],
   "source": [
    "t_shirt = 0\n",
    "trousers = 1\n",
    "pullover = 2\n",
    "dress = 3\n",
    "coat = 4\n",
    "sandal = 5\n",
    "shirt = 6\n",
    "sneaker = 7\n",
    "bag = 8\n",
    "ankle_boot = 9"
   ]
  },
  {
   "cell_type": "code",
   "execution_count": 5,
   "metadata": {},
   "outputs": [],
   "source": [
    "# create function to separate different pairs of clothes, passing in the clothes labels as the last two parameters\n",
    "# the first label passed will be relabeled as -1\n",
    "\n",
    "def filter_datasets(X_train,X_test, y_train, y_test, clothes1, clothes2):\n",
    "    # training sets\n",
    "    filtered_y_train_indices = np.where((y_train == clothes1)| (y_train == clothes2))[0].tolist()\n",
    "    \n",
    "    filtered_y_train = []\n",
    "    filtered_x_train = []\n",
    "    \n",
    "    for i in filtered_y_train_indices:\n",
    "        filtered_y_train.append(y_train[i])\n",
    "        filtered_x_train.append(X_train[i])\n",
    "    \n",
    "    # make into np.arrays\n",
    "    filtered_y_train = np.array(filtered_y_train)\n",
    "    filtered_x_train = np.array(filtered_x_train)\n",
    "    \n",
    "    print(filtered_y_train)\n",
    "#     print(filtered_x_train)\n",
    "    \n",
    "    # recode the y labels to be -1 and 1\n",
    "    filtered_y_train = np.where(filtered_y_train == clothes1, -1, filtered_y_train)\n",
    "    filtered_y_train = np.where(filtered_y_train == clothes2, 1, filtered_y_train)\n",
    "    print(filtered_y_train)\n",
    "    \n",
    "    \n",
    "    # test sets\n",
    "    filtered_y_test_indices = np.where((y_test == clothes1)| (y_test == clothes2))[0].tolist()\n",
    "#     print(filtered_y_test_indices)\n",
    "#     print(len(filtered_y_test_indices))\n",
    "    # print('the indices of y_train corresponding to t-shirts (0) and trousers(1):{}'.format(filtered_y_train_indices))\n",
    "\n",
    "    # use these indices to segment x_test to only show these features\n",
    "    filtered_y_test = []\n",
    "    filtered_x_test = []\n",
    "\n",
    "    for i in filtered_y_test_indices:\n",
    "        filtered_y_test.append(y_test[i])\n",
    "        filtered_x_test.append(X_test[i])\n",
    "\n",
    "    filtered_y_test = np.array(filtered_y_test)\n",
    "    print(filtered_y_test)\n",
    "    filtered_x_test = np.array(filtered_x_test)  \n",
    "\n",
    "    # recode the y labels to be -1 and 1\n",
    "    filtered_y_test = np.where(filtered_y_test == clothes1, -1, filtered_y_test)\n",
    "    filtered_y_test = np.where(filtered_y_test == clothes2, 1, filtered_y_test)\n",
    "    print(filtered_y_test)\n",
    "#     print(filtered_x_test)\n",
    "    \n",
    "    return filtered_x_train, filtered_x_test, filtered_y_train, filtered_y_test"
   ]
  },
  {
   "cell_type": "code",
   "execution_count": 6,
   "metadata": {},
   "outputs": [
    {
     "name": "stdout",
     "output_type": "stream",
     "text": [
      "[0 0 0 ... 0 2 0]\n",
      "[-1 -1 -1 ... -1  1 -1]\n",
      "[2 2 0 ... 0 0 2]\n",
      "[ 1  1 -1 ... -1 -1  1]\n"
     ]
    }
   ],
   "source": [
    "filtered_x_train, filtered_x_test, filtered_y_train, filtered_y_test = filter_datasets(X_train,X_test, y_train, y_test, t_shirt, pullover)"
   ]
  },
  {
   "cell_type": "code",
   "execution_count": 7,
   "metadata": {},
   "outputs": [
    {
     "name": "stdout",
     "output_type": "stream",
     "text": [
      "(12000,)\n",
      "(12000, 784)\n"
     ]
    }
   ],
   "source": [
    "print(filtered_y_train.shape)\n",
    "print(filtered_x_train.shape)\n",
    "# print(filtered_y_train)"
   ]
  },
  {
   "cell_type": "code",
   "execution_count": 8,
   "metadata": {},
   "outputs": [
    {
     "name": "stdout",
     "output_type": "stream",
     "text": [
      "(784,)\n"
     ]
    }
   ],
   "source": [
    "# initialise w = 0 (length of x train to occupy same dimensional space)\n",
    "w = np.zeros(np.shape(filtered_x_train)[1])\n",
    "print(w.shape)"
   ]
  },
  {
   "cell_type": "code",
   "execution_count": 11,
   "metadata": {},
   "outputs": [],
   "source": [
    "# # create while loop to iterate through data points\n",
    "# # for loop to go through each data point in the data set\n",
    "    \n",
    "#     # calculate the dot product and compare with the label\n",
    "#     # if misclassified add one to the counter\n",
    "#     # update value of w and restart the program\n",
    "# # stop the while loop when there are no misclassifications \n",
    "\n",
    "# # pass in training features and labels\n",
    "def algorithm(w, X_train, y_train):\n",
    "    m = 1\n",
    "    \n",
    "    while m!=0:\n",
    "        # initiliase counter (m)\n",
    "        m = 0\n",
    "        \n",
    "        # for each point in the X_train dataset\n",
    "        for i in range(0, len(X_train)):\n",
    "            \n",
    "            # caclulate the dot product between it and w, multiply by the label and decide if the label is correct (>0) \n",
    "            # if incorrect (<= 0), update the value of w and start again\n",
    "            if y_train[i] * np.dot(X_train[i], w) <= 0:\n",
    "                # update m\n",
    "                m += 1\n",
    "                \n",
    "                # update w\n",
    "                if y_train[i] == 1:\n",
    "                    w = w + X_train[i]\n",
    "                else:\n",
    "                    w = w - X_train[i]\n",
    "            else:\n",
    "                continue\n",
    "            # go back to the beginning of the for loop            \n",
    "    return w"
   ]
  },
  {
   "cell_type": "code",
   "execution_count": 12,
   "metadata": {},
   "outputs": [
    {
     "ename": "KeyboardInterrupt",
     "evalue": "",
     "output_type": "error",
     "traceback": [
      "\u001b[1;31m---------------------------------------------------------------------------\u001b[0m",
      "\u001b[1;31mKeyboardInterrupt\u001b[0m                         Traceback (most recent call last)",
      "\u001b[1;32m<ipython-input-12-58efb0afb7dd>\u001b[0m in \u001b[0;36m<module>\u001b[1;34m\u001b[0m\n\u001b[1;32m----> 1\u001b[1;33m \u001b[0mw\u001b[0m \u001b[1;33m=\u001b[0m \u001b[0malgorithm\u001b[0m\u001b[1;33m(\u001b[0m\u001b[0mw\u001b[0m\u001b[1;33m,\u001b[0m \u001b[0mfiltered_x_train\u001b[0m\u001b[1;33m,\u001b[0m \u001b[0mfiltered_y_train\u001b[0m\u001b[1;33m)\u001b[0m\u001b[1;33m\u001b[0m\u001b[1;33m\u001b[0m\u001b[0m\n\u001b[0m",
      "\u001b[1;32m<ipython-input-11-6ebcf9a9a262>\u001b[0m in \u001b[0;36malgorithm\u001b[1;34m(w, X_train, y_train)\u001b[0m\n\u001b[0;32m     20\u001b[0m             \u001b[1;31m# caclulate the dot product between it and w, multiply by the label and decide if the label is correct (>0)\u001b[0m\u001b[1;33m\u001b[0m\u001b[1;33m\u001b[0m\u001b[1;33m\u001b[0m\u001b[0m\n\u001b[0;32m     21\u001b[0m             \u001b[1;31m# if incorrect (<= 0), update the value of w and start again\u001b[0m\u001b[1;33m\u001b[0m\u001b[1;33m\u001b[0m\u001b[1;33m\u001b[0m\u001b[0m\n\u001b[1;32m---> 22\u001b[1;33m             \u001b[1;32mif\u001b[0m \u001b[0my_train\u001b[0m\u001b[1;33m[\u001b[0m\u001b[0mi\u001b[0m\u001b[1;33m]\u001b[0m \u001b[1;33m*\u001b[0m \u001b[0mnp\u001b[0m\u001b[1;33m.\u001b[0m\u001b[0mdot\u001b[0m\u001b[1;33m(\u001b[0m\u001b[0mX_train\u001b[0m\u001b[1;33m[\u001b[0m\u001b[0mi\u001b[0m\u001b[1;33m]\u001b[0m\u001b[1;33m,\u001b[0m \u001b[0mw\u001b[0m\u001b[1;33m)\u001b[0m \u001b[1;33m<=\u001b[0m \u001b[1;36m0\u001b[0m\u001b[1;33m:\u001b[0m\u001b[1;33m\u001b[0m\u001b[1;33m\u001b[0m\u001b[0m\n\u001b[0m\u001b[0;32m     23\u001b[0m                 \u001b[1;31m# update m\u001b[0m\u001b[1;33m\u001b[0m\u001b[1;33m\u001b[0m\u001b[1;33m\u001b[0m\u001b[0m\n\u001b[0;32m     24\u001b[0m                 \u001b[0mm\u001b[0m \u001b[1;33m+=\u001b[0m \u001b[1;36m1\u001b[0m\u001b[1;33m\u001b[0m\u001b[1;33m\u001b[0m\u001b[0m\n",
      "\u001b[1;32m<__array_function__ internals>\u001b[0m in \u001b[0;36mdot\u001b[1;34m(*args, **kwargs)\u001b[0m\n",
      "\u001b[1;31mKeyboardInterrupt\u001b[0m: "
     ]
    }
   ],
   "source": [
    "w = algorithm(w, filtered_x_train, filtered_y_train)"
   ]
  },
  {
   "cell_type": "code",
   "execution_count": null,
   "metadata": {},
   "outputs": [],
   "source": [
    "# make predictions\n",
    "def predict(w, X_test):\n",
    "    y_pred = []\n",
    "    \n",
    "    for i in range(0,len(X_test)):\n",
    "        # use dot product\n",
    "        if np.dot(X_test[i], w) > 0:\n",
    "            # if x lies above w, classify as 1\n",
    "            y_pred.append(1)\n",
    "         # what to do if it is exactly 0? \n",
    "        else:\n",
    "            # currently assumes that if it falls on the line it is a -1 - shouldn't be the case?\n",
    "            # if x lies below w, classify as -1\n",
    "            y_pred.append(-1)\n",
    "        \n",
    "    return np.array(y_pred)"
   ]
  },
  {
   "cell_type": "code",
   "execution_count": null,
   "metadata": {},
   "outputs": [],
   "source": [
    "def accuracy(y_test, y_pred):\n",
    "    correct = 0\n",
    "    incorrect = 0\n",
    "    for i in range(0,len(y_test)):\n",
    "        if y_test[i] == y_pred[i]:\n",
    "            correct += 1\n",
    "        else:\n",
    "            incorrect += 1\n",
    "            \n",
    "    calc_accuracy = (correct/(incorrect + correct))*100\n",
    "    return calc_accuracy"
   ]
  },
  {
   "cell_type": "code",
   "execution_count": null,
   "metadata": {},
   "outputs": [],
   "source": [
    "y_pred = predict(w, filtered_x_test)"
   ]
  },
  {
   "cell_type": "code",
   "execution_count": null,
   "metadata": {},
   "outputs": [],
   "source": [
    "calc_accuracy = accuracy(filtered_y_test, y_pred)\n",
    "print(calc_accuracy)"
   ]
  },
  {
   "cell_type": "code",
   "execution_count": null,
   "metadata": {},
   "outputs": [],
   "source": [
    "# print(w)\n",
    "# print((y_pred == filtered_y_test).tolist())"
   ]
  },
  {
   "cell_type": "markdown",
   "metadata": {},
   "source": [
    "## Accuracies:\n",
    "Seemed to work fine using t_shirt and trousers but didn't seem to like any of the others, taking ages to converge or not converging at all\n",
    "* t_shirt and trousers: 97.95%\n",
    "* sandal and sneaker: *tried and seemed to take forever...*\n",
    "* pullover and dress: *tried and seemed to take forever...*\n",
    "* bag and ankle boot: \n",
    "* top and dress: "
   ]
  },
  {
   "cell_type": "code",
   "execution_count": null,
   "metadata": {},
   "outputs": [],
   "source": []
  }
 ],
 "metadata": {
  "kernelspec": {
   "display_name": "Python 3",
   "language": "python",
   "name": "python3"
  },
  "language_info": {
   "codemirror_mode": {
    "name": "ipython",
    "version": 3
   },
   "file_extension": ".py",
   "mimetype": "text/x-python",
   "name": "python",
   "nbconvert_exporter": "python",
   "pygments_lexer": "ipython3",
   "version": "3.8.5"
  }
 },
 "nbformat": 4,
 "nbformat_minor": 4
}
