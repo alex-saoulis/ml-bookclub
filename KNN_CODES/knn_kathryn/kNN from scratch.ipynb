{
 "cells": [
  {
   "cell_type": "markdown",
   "metadata": {},
   "source": [
    "# Making a kNN for classification\n",
    "\n",
    "## Pseudo Code:\n",
    "* Testing point is xte\n",
    "* For each training data point xtr:\n",
    "    * measure    distance(xte to xtr)\n",
    "* End for loop -> O(n) time complexity\n",
    "* Sort distances -> O(nlog n) time complexity\n",
    "* Select k nearest points\n",
    "* Assign most common class (mode)"
   ]
  },
  {
   "cell_type": "code",
   "execution_count": 1,
   "metadata": {},
   "outputs": [],
   "source": [
    "# import relevant packages\n",
    "import numpy as np\n",
    "from statistics import mode\n",
    "import time\n",
    "import matplotlib.pyplot as plt"
   ]
  },
  {
   "cell_type": "code",
   "execution_count": 2,
   "metadata": {},
   "outputs": [
    {
     "name": "stdout",
     "output_type": "stream",
     "text": [
      "[[ 0.  1.  6. ...  0.  0.  0.]\n",
      " [ 0.  0. 10. ...  0.  0.  0.]\n",
      " [ 0.  0.  8. ...  0.  0.  7.]\n",
      " ...\n",
      " [ 0.  0.  3. ...  0.  0.  6.]\n",
      " [ 0.  0.  6. ...  5.  0.  6.]\n",
      " [ 0.  0.  2. ...  0.  0.  7.]] <class 'numpy.ndarray'> (3823, 65)\n"
     ]
    }
   ],
   "source": [
    "# import x train data\n",
    "training_data = np.loadtxt('optdigits.tra', delimiter=',')\n",
    "print(training_data, type(training_data), training_data.shape)\n",
    "\n",
    "# need to extract the class attribute (last digit) from all 3823 training examples\n",
    "\n",
    "# use classes to keep y associated with each x train point?\n",
    "# create object of each xtrain data set"
   ]
  },
  {
   "cell_type": "code",
   "execution_count": 3,
   "metadata": {},
   "outputs": [],
   "source": [
    "# extract features and digits as X and y using list comprehension:\n",
    "X_train = [example[0:-1] for example in training_data]\n",
    "y_train = [example[-1] for example in training_data]\n",
    "# print(len(X), X)\n",
    "# print(len(y), y)"
   ]
  },
  {
   "cell_type": "code",
   "execution_count": 4,
   "metadata": {},
   "outputs": [],
   "source": [
    "# import and store test data\n",
    "test_data = np.loadtxt('optdigits.tes', delimiter=',')\n",
    "X_test = [example[0:-1] for example in test_data]\n",
    "y_test = [example[-1] for example in test_data]"
   ]
  },
  {
   "cell_type": "code",
   "execution_count": 5,
   "metadata": {},
   "outputs": [],
   "source": [
    "# define a model class with all the relevant methods\n",
    "class kNN:\n",
    "    \n",
    "    def __init__(self, n, p):\n",
    "        self.n = n\n",
    "        self.minkowski_power = p\n",
    "        self.incorrectly_classified = []\n",
    "    \n",
    "    def fit(self, x_train, y_train):\n",
    "        self.x_train = x_train\n",
    "        self.y_train = y_train\n",
    "        \n",
    "    def predict(self, test_data):\n",
    "        self.X_test = test_data\n",
    "        # create empty list that will be filled with distances (same length as test features)\n",
    "        self.y_pred = np.zeros(len(self.X_test))\n",
    "        \n",
    "        # use a for loop to complete this process on each element in self.x_test\n",
    "        for i in range(len(self.X_test)):\n",
    "            distance = np.power(np.sum(np.power(np.abs((self.X_test[i]-self.x_train)), self.minkowski_power),\\\n",
    "                                       axis=1), (1/self.minkowski_power))\n",
    "            distance_sorted = distance.argsort()\n",
    "            # returns an array of indices that would sort an array - allows you to retain the original order \n",
    "        \n",
    "            # find the most common target of the first n numbers of the y_train set and assign to the y_test array\n",
    "            # create empty array of closest points (length n)\n",
    "            closest_points = np.zeros(self.n)\n",
    "            # assign first five points of closest_points as the y_train values with indices of 0-n in distance_sorted\n",
    "            for j in range(0, self.n):\n",
    "                closest_points[j] = (y_train[distance_sorted[j]])\n",
    "            \n",
    "            self.y_pred[i] = mode(closest_points)\n",
    "        # this is rewriting the original test data so need to store that separately and then compare at the end\n",
    "        return self.y_pred\n",
    "    \n",
    "    def accuracy(self, y_test):\n",
    "        self.y_test = y_test\n",
    "        correct = 0\n",
    "        incorrect = 0\n",
    "        \n",
    "        for i in range(len(self.y_test)):\n",
    "            if self.y_test[i] == self.y_pred[i]:\n",
    "                correct += 1\n",
    "            else:\n",
    "                incorrect += 1\n",
    "                # only adds the incorrect labels to the list - should add both the features and the label\n",
    "                self.incorrectly_classified.append(self.y_pred[i])\n",
    "        \n",
    "        self.model_accuracy = (correct/(incorrect + correct))*100\n",
    "        return self.model_accuracy"
   ]
  },
  {
   "cell_type": "code",
   "execution_count": 6,
   "metadata": {},
   "outputs": [],
   "source": [
    "#create instance of kNN model, specifying the number of neighbours\n",
    "# minkowski_power = 1\n",
    "neighbours = 5\n",
    "model_euclidean = kNN(neighbours, 2)\n",
    "model_manhattan = kNN(neighbours, 1)"
   ]
  },
  {
   "cell_type": "code",
   "execution_count": 7,
   "metadata": {},
   "outputs": [],
   "source": [
    "# use model to train data and test timings\n",
    "start_train_time_e = time.time()\n",
    "model_euclidean.fit(X_train, y_train)\n",
    "end_train_time_e = time.time()\n",
    "train_time_euclidean = end_train_time_e - start_train_time_e\n",
    "\n",
    "start_predict_time_e = time.time()\n",
    "test_classes = model_euclidean.predict(X_test)\n",
    "end_predict_time_e = time.time()\n",
    "test_time_euclidean = end_predict_time_e - start_predict_time_e\n",
    "\n",
    "accuracy_e = model_euclidean.accuracy(y_test)"
   ]
  },
  {
   "cell_type": "code",
   "execution_count": 8,
   "metadata": {},
   "outputs": [],
   "source": [
    "# use model to train data and test timings\n",
    "start_train_time_m = time.time()\n",
    "model_manhattan.fit(X_train, y_train)\n",
    "end_train_time_m = time.time()\n",
    "train_time_manhattan = end_train_time_m - start_train_time_m\n",
    "\n",
    "start_predict_time_m = time.time()\n",
    "test_classes = model_manhattan.predict(X_test)\n",
    "end_predict_time_m = time.time()\n",
    "test_time_manhattan = end_predict_time_m - start_predict_time_m\n",
    "\n",
    "accuracy_m = model_manhattan.accuracy(y_test)"
   ]
  },
  {
   "cell_type": "code",
   "execution_count": 9,
   "metadata": {},
   "outputs": [
    {
     "name": "stdout",
     "output_type": "stream",
     "text": [
      "Time taken to train the model: 0.0000 s\n",
      "Time taken to run the model: 18.1670 s\n",
      "Model accuracy with 5 Nearest Neighbours and Euclidean distance is: 97.83%\n"
     ]
    }
   ],
   "source": [
    "print('Time taken to train the model: {:.4f} s'.format(train_time_euclidean))\n",
    "print('Time taken to run the model: {:.4f} s'.format(test_time_euclidean))\n",
    "print('Model accuracy with {} Nearest Neighbours and Euclidean distance is: {:.2f}%'.format(model_euclidean.n, accuracy_e))"
   ]
  },
  {
   "cell_type": "code",
   "execution_count": 10,
   "metadata": {},
   "outputs": [
    {
     "name": "stdout",
     "output_type": "stream",
     "text": [
      "Time taken to train the model: 0.0000 s\n",
      "Time taken to run the model: 18.4712 s\n",
      "Model accuracy with 5 Nearest Neighbours and Manhattan distance is: 97.33%\n"
     ]
    }
   ],
   "source": [
    "print('Time taken to train the model: {:.4f} s'.format(train_time_manhattan))\n",
    "print('Time taken to run the model: {:.4f} s'.format(test_time_manhattan))\n",
    "print('Model accuracy with {} Nearest Neighbours and Manhattan distance is: {:.2f}%'.format(model_manhattan.n, accuracy_m))"
   ]
  },
  {
   "cell_type": "code",
   "execution_count": 11,
   "metadata": {},
   "outputs": [
    {
     "name": "stdout",
     "output_type": "stream",
     "text": [
      "[1.0, 9.0, 1.0, 1.0, 1.0, 1.0, 1.0, 9.0, 9.0, 9.0, 9.0, 9.0, 5.0, 9.0, 8.0, 6.0, 8.0, 4.0, 4.0, 1.0, 1.0, 1.0, 3.0, 8.0, 7.0, 3.0, 9.0, 3.0, 8.0, 1.0, 7.0, 8.0, 3.0, 5.0, 8.0, 1.0, 5.0, 1.0, 1.0]\n"
     ]
    }
   ],
   "source": [
    "print(model_euclidean.incorrectly_classified)"
   ]
  }
 ],
 "metadata": {
  "kernelspec": {
   "display_name": "Python 3",
   "language": "python",
   "name": "python3"
  },
  "language_info": {
   "codemirror_mode": {
    "name": "ipython",
    "version": 3
   },
   "file_extension": ".py",
   "mimetype": "text/x-python",
   "name": "python",
   "nbconvert_exporter": "python",
   "pygments_lexer": "ipython3",
   "version": "3.8.5"
  }
 },
 "nbformat": 4,
 "nbformat_minor": 4
}
